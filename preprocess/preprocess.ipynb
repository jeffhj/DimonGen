{
 "cells": [
  {
   "attachments": {},
   "cell_type": "markdown",
   "metadata": {},
   "source": [
    "download CommonGen dataset first from https://inklab.usc.edu/CommonGen/"
   ]
  },
  {
   "cell_type": "code",
   "execution_count": 1,
   "metadata": {},
   "outputs": [
    {
     "name": "stderr",
     "output_type": "stream",
     "text": [
      "<frozen importlib._bootstrap>:228: RuntimeWarning: scipy._lib.messagestream.MessageStream size changed, may indicate binary incompatibility. Expected 56 from C header, got 64 from PyObject\n"
     ]
    },
    {
     "data": {
      "text/plain": [
       "<torch._C.Generator at 0x7fd682dc4470>"
      ]
     },
     "execution_count": 1,
     "metadata": {},
     "output_type": "execute_result"
    }
   ],
   "source": [
    "import json\n",
    "import numpy as np\n",
    "from itertools import combinations\n",
    "from tqdm import tqdm\n",
    "import random\n",
    "from sklearn.metrics.pairwise import cosine_similarity\n",
    "import matplotlib.pyplot as plt\n",
    "import torch\n",
    "\n",
    "random.seed(10)\n",
    "np.random.seed(10)\n",
    "torch.manual_seed(10)"
   ]
  },
  {
   "cell_type": "code",
   "execution_count": 2,
   "metadata": {},
   "outputs": [
    {
     "name": "stderr",
     "output_type": "stream",
     "text": [
      "100%|██████████| 33644/33644 [00:00<00:00, 68565.71it/s] \n"
     ]
    }
   ],
   "source": [
    "p2n = {}\n",
    "n2s = {}\n",
    "\n",
    "lines = []\n",
    "with open(\"commongen.train.jsonl\") as f:\n",
    "    lines += f.readlines()\n",
    "with open(\"commongen.dev.jsonl\") as f:\n",
    "    lines += f.readlines()\n",
    "\n",
    "for line in tqdm(lines):\n",
    "    d = json.loads(line)\n",
    "    concepts = tuple(d[\"concept_set\"].split('#'))\n",
    "    for p in list(sorted(combinations(concepts, 2))):\n",
    "        if p not in p2n:\n",
    "            p2n[p] = set([concepts])\n",
    "        else:\n",
    "            p2n[p].add(concepts)\n",
    "    \n",
    "    n2s[concepts] = d[\"scene\"]"
   ]
  },
  {
   "cell_type": "code",
   "execution_count": 4,
   "metadata": {},
   "outputs": [],
   "source": [
    "from sentence_transformers import SentenceTransformer\n",
    "model = SentenceTransformer('all-MiniLM-L6-v2')"
   ]
  },
  {
   "cell_type": "code",
   "execution_count": null,
   "metadata": {},
   "outputs": [],
   "source": [
    "entitypairs = []\n",
    "concepts = []\n",
    "sentences = []\n",
    "statistics = []\n",
    "\n",
    "value_list = list(p2n.keys())\n",
    "random.shuffle(value_list)\n",
    "for k in tqdm(value_list):\n",
    "    paths = list(p2n[k])\n",
    "\n",
    "    sent = []\n",
    "    paths_new = []\n",
    "    for p in paths:\n",
    "        sent += n2s[p]\n",
    "        paths_new += [p for i in range(len(n2s[p]))]\n",
    "    \n",
    "    threshold = 0.75\n",
    "    document_embedding = model.encode(sent)\n",
    "    similarities = cosine_similarity(document_embedding, document_embedding)\n",
    "    index = [0]\n",
    "    for i in range(1, len(sent)):\n",
    "        index.append(i)\n",
    "        for j in index[:-1]:\n",
    "            if similarities[i][j] > threshold:\n",
    "                index = index[:-1]\n",
    "                break\n",
    "    \n",
    "    if len(index) < 3:  # each input entity pair will have diverse sentences >= 2.\n",
    "        continue\n",
    "    \n",
    "    if len(index) > 5:\n",
    "        index_new = [index[0]]\n",
    "        index.pop(0)\n",
    "        for it in range(4):\n",
    "            scores = np.zeros(len(index))\n",
    "            for i in range(len(index)):\n",
    "                scores[i] = sum([similarities[index[i]][j] for j in index_new])\n",
    "            pos = np.argmin(scores)\n",
    "            index_new.append(index[pos])\n",
    "            index.pop(pos)\n",
    "        index = index_new\n",
    "\n",
    "    paths = [paths_new[j] for j in index]\n",
    "    sent = [sent[j] for j in index]\n",
    "        \n",
    "    entitypairs.append(list(k))\n",
    "    concepts.append(paths)\n",
    "    sentences.append(sent)\n",
    "    statistics.append(len(sent))\n"
   ]
  },
  {
   "cell_type": "code",
   "execution_count": 17,
   "metadata": {},
   "outputs": [
    {
     "data": {
      "text/plain": [
       "(array([6068., 4218., 7169.]),\n",
       " array([3.        , 3.66666667, 4.33333333, 5.        ]),\n",
       " <BarContainer object of 3 artists>)"
      ]
     },
     "execution_count": 17,
     "metadata": {},
     "output_type": "execute_result"
    },
    {
     "data": {
      "image/png": "[encoded data removed]",
      "text/plain": [
       "<Figure size 432x288 with 1 Axes>"
      ]
     },
     "metadata": {
      "needs_background": "light"
     },
     "output_type": "display_data"
    }
   ],
   "source": [
    "plt.hist(statistics, bins=3)"
   ]
  },
  {
   "cell_type": "code",
   "execution_count": 29,
   "metadata": {},
   "outputs": [
    {
     "name": "stdout",
     "output_type": "stream",
     "text": [
      "0.41071326267545116\n"
     ]
    }
   ],
   "source": [
    "print(7169/(6068 + 4218 + 7169))"
   ]
  },
  {
   "cell_type": "code",
   "execution_count": 23,
   "metadata": {},
   "outputs": [
    {
     "name": "stdout",
     "output_type": "stream",
     "text": [
      "15263\n",
      "665\n",
      "1181\n",
      "4.125139225578196\n",
      "3.7097744360902256\n",
      "3.380186282811177\n"
     ]
    }
   ],
   "source": [
    "train = []\n",
    "dev = []\n",
    "test = []\n",
    "total = []\n",
    "\n",
    "train_entities = {}\n",
    "dev_entities = {}\n",
    "test_entities = {}\n",
    "total_entities = {}\n",
    "is_used = {}\n",
    "\n",
    "\n",
    "def update_dataset(dataset, entity_dict, et, cp, st, i=-1):\n",
    "    if i != -1:\n",
    "        if i in is_used:\n",
    "            return\n",
    "        else:\n",
    "            is_used[i] = True\n",
    "\n",
    "    st_new = []\n",
    "    for i in range(len(st)):\n",
    "        if st[i][-1] != \".\":\n",
    "            st[i] = st[i] + \".\"\n",
    "        elif st[i][-2:] == \" .\":\n",
    "            st[i] = st[i][:-2] + \".\"\n",
    "        st_new.append(st)\n",
    "            \n",
    "    dataset.append({\"inputs\": et, \"labels\": st})\n",
    "    for cp_list in cp:\n",
    "        cp_pairs = [frozenset({cp_list[i], cp_list[j]}) for i in range(len(cp_list) - 1) for j in range(i + 1, len(cp_list))]\n",
    "        for k in set(cp_pairs):\n",
    "            if k not in entity_dict:\n",
    "                entity_dict[k] = 0\n",
    "            entity_dict[k] += 1\n",
    "\n",
    "\n",
    "length = len(entitypairs)\n",
    "for i in range(length):\n",
    "    et = entitypairs[i]\n",
    "    cp = concepts[i]\n",
    "    st = sentences[i]\n",
    "    update_dataset(total, total_entities, et, cp, st)\n",
    "    if et == [\"dog\", \"sheep\"] or et == [\"cloud\", \"mountain\"]:   # example test case\n",
    "        update_dataset(test, test_entities, et, cp, st, i)\n",
    "\n",
    "\n",
    "# try to reduce the seen entity pair in the dev/test dataset.\n",
    "for i in range(length):\n",
    "    et = entitypairs[i]\n",
    "    cp = concepts[i]\n",
    "    st = sentences[i]\n",
    "    if total_entities[frozenset(et)] > 10:\n",
    "        update_dataset(train, train_entities, et, cp, st, i)\n",
    "    else:\n",
    "        if frozenset(et) in train_entities:\n",
    "            update_dataset(train, train_entities, et, cp, st, i)\n",
    "\n",
    "for i in range(length):\n",
    "    et = entitypairs[i]\n",
    "    cp = concepts[i]\n",
    "    st = sentences[i]\n",
    "    if  total_entities[frozenset(et)] in ([7, 8, 9]):\n",
    "        if frozenset(et) in train_entities:\n",
    "            update_dataset(train, train_entities, et, cp, st, i)\n",
    "        else:\n",
    "            update_dataset(dev, dev_entities, et, cp, st, i)\n",
    "    else:\n",
    "        if frozenset(et) not in train_entities and frozenset(et) in dev_entities:\n",
    "            update_dataset(dev, dev_entities, et, cp, st, i)\n",
    "\n",
    "for i in range(length):\n",
    "    et = entitypairs[i]\n",
    "    cp = concepts[i]\n",
    "    st = sentences[i]\n",
    "    if total_entities[frozenset(et)] in ([2, 3, 4, 5, 6]):\n",
    "        if frozenset(et) in train_entities:\n",
    "            update_dataset(train, train_entities, et, cp, st, i)\n",
    "        elif frozenset(et) in dev_entities:\n",
    "            update_dataset(dev, dev_entities, et, cp, st, i)\n",
    "        else:\n",
    "            update_dataset(test, test_entities, et, cp, st, i)\n",
    "\n",
    "\n",
    "print(len(train))\n",
    "print(len(dev))\n",
    "print(len(test))\n",
    "print(sum([len(l[\"labels\"]) for l in train]) / len(train))\n",
    "print(sum([len(l[\"labels\"]) for l in dev]) / len(dev))\n",
    "print(sum([len(l[\"labels\"]) for l in test]) / len(test))\n"
   ]
  },
  {
   "cell_type": "code",
   "execution_count": 26,
   "metadata": {},
   "outputs": [
    {
     "name": "stdout",
     "output_type": "stream",
     "text": [
      "0.9172932330827068\n",
      "0.983065198983912\n"
     ]
    }
   ],
   "source": [
    "count_dev = 0\n",
    "for i in dev:\n",
    "    et = i[\"inputs\"]\n",
    "    if frozenset(et) in train_entities:\n",
    "        count_dev += 1\n",
    "\n",
    "count_test = 0\n",
    "for i in test:\n",
    "    et = i[\"inputs\"]\n",
    "    if frozenset(et) in train_entities or frozenset(et) in dev_entities:\n",
    "        count_test += 1\n",
    "\n",
    "print(1 - count_dev / len(dev))\n",
    "print(1 - count_test / len(test))"
   ]
  },
  {
   "cell_type": "code",
   "execution_count": 25,
   "metadata": {},
   "outputs": [],
   "source": [
    "with open(\"../data/train.json\", \"w\") as f:\n",
    "    for ex in train:\n",
    "        f.write(json.dumps(ex))\n",
    "        f.write(\"\\n\")\n",
    "\n",
    "with open(\"../data/dev.json\", \"w\") as f:\n",
    "    for ex in dev:\n",
    "        f.write(json.dumps(ex))\n",
    "        f.write(\"\\n\")\n",
    "\n",
    "with open(\"../data/test.json\", \"w\") as f:\n",
    "    for ex in test:\n",
    "        f.write(json.dumps(ex))\n",
    "        f.write(\"\\n\")"
   ]
  },
  {
   "cell_type": "code",
   "execution_count": null,
   "metadata": {},
   "outputs": [],
   "source": []
  }
 ],
 "metadata": {
  "kernelspec": {
   "display_name": "Python 3.9.12 ('nlp')",
   "language": "python",
   "name": "python3"
  },
  "language_info": {
   "codemirror_mode": {
    "name": "ipython",
    "version": 3
   },
   "file_extension": ".py",
   "mimetype": "text/x-python",
   "name": "python",
   "nbconvert_exporter": "python",
   "pygments_lexer": "ipython3",
   "version": "3.9.12 (main, Apr  5 2022, 06:56:58) \n[GCC 7.5.0]"
  },
  "orig_nbformat": 4,
  "vscode": {
   "interpreter": {
    "hash": "74db9ac259881274924d815048c69936e17fff157c60807de1849f3ba305deca"
   }
  }
 },
 "nbformat": 4,
 "nbformat_minor": 2
}
